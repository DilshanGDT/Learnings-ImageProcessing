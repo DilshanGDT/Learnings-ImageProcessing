{
 "cells": [
  {
   "cell_type": "markdown",
   "metadata": {},
   "source": [
    "01. Finding factorial"
   ]
  },
  {
   "cell_type": "code",
   "execution_count": 2,
   "metadata": {},
   "outputs": [
    {
     "name": "stdout",
     "output_type": "stream",
     "text": [
      "5! = 120\n"
     ]
    }
   ],
   "source": [
    "def fac(n):\n",
    "    factorial = 1\n",
    "    for i in range(1,n+1):\n",
    "        factorial = factorial*i\n",
    "    return factorial \n",
    "\n",
    "def user_input():\n",
    "    num = input('Enter a valid Number - ')\n",
    "\n",
    "    if(num.isdigit()):\n",
    "        print(f'{num}! = {fac(int(num))}')\n",
    "    else:\n",
    "        print('Invalid Input...! Try Agian using positive Numerics')\n",
    "\n",
    "user_input()"
   ]
  },
  {
   "cell_type": "markdown",
   "metadata": {},
   "source": [
    "2. File handling"
   ]
  },
  {
   "cell_type": "code",
   "execution_count": 4,
   "metadata": {},
   "outputs": [
    {
     "name": "stdout",
     "output_type": "stream",
     "text": [
      "Hello World\n"
     ]
    }
   ],
   "source": [
    "file = open('test.txt')\n",
    "\n",
    "print(file.readline())\n",
    "\n",
    "file.close()"
   ]
  },
  {
   "cell_type": "markdown",
   "metadata": {},
   "source": [
    "3. Guessing a random number"
   ]
  },
  {
   "cell_type": "code",
   "execution_count": 5,
   "metadata": {},
   "outputs": [],
   "source": [
    "import random\n",
    "\n",
    "def guessTheNumber(n):\n",
    "    isValid = True\n",
    "    \n",
    "    while isValid:\n",
    "        \n",
    "        userInput = input('Enter Any Integer betwen 1 and 10 - ')\n",
    "\n",
    "        if(userInput.isdigit()):\n",
    "            if(n == int(userInput)):\n",
    "                print(f'Random Number = {n} & Your Guess = {userInput} - You Won!')\n",
    "                isValid = False\n",
    "                continue\n",
    "            else:\n",
    "                if(abs(n-int(userInput) <= 2)):\n",
    "                    print('Your guess is closer! Try again')\n",
    "                    continue\n",
    "                else:\n",
    "                    print('Your guess is not closer! Try again')\n",
    "                    continue\n",
    "        else:\n",
    "            print('Inavlid Input! try again.')\n",
    "            continue"
   ]
  },
  {
   "cell_type": "code",
   "execution_count": null,
   "metadata": {},
   "outputs": [],
   "source": [
    "secret_number = random.randint(1,10)\n",
    "guessTheNumber(secret_number)"
   ]
  }
 ],
 "metadata": {
  "kernelspec": {
   "display_name": "Python 3",
   "language": "python",
   "name": "python3"
  },
  "language_info": {
   "codemirror_mode": {
    "name": "ipython",
    "version": 3
   },
   "file_extension": ".py",
   "mimetype": "text/x-python",
   "name": "python",
   "nbconvert_exporter": "python",
   "pygments_lexer": "ipython3",
   "version": "3.12.1"
  }
 },
 "nbformat": 4,
 "nbformat_minor": 2
}
